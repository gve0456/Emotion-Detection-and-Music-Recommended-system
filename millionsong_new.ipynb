{
  "nbformat": 4,
  "nbformat_minor": 0,
  "metadata": {
    "colab": {
      "provenance": [],
      "authorship_tag": "ABX9TyMHkUW/Dkf4xxCvic4MMUIj",
      "include_colab_link": true
    },
    "kernelspec": {
      "name": "python3",
      "display_name": "Python 3"
    },
    "language_info": {
      "name": "python"
    }
  },
  "cells": [
    {
      "cell_type": "markdown",
      "metadata": {
        "id": "view-in-github",
        "colab_type": "text"
      },
      "source": [
        "<a href=\"https://colab.research.google.com/github/gve0456/Emotion-Detection-and-Music-Recommended-system/blob/main/millionsong_new.ipynb\" target=\"_parent\"><img src=\"https://colab.research.google.com/assets/colab-badge.svg\" alt=\"Open In Colab\"/></a>"
      ]
    },
    {
      "cell_type": "code",
      "metadata": {
        "id": "jynK0MafYclT"
      },
      "source": [
        "import os\n",
        "import pandas as pd\n",
        "import numpy as np\n",
        "import kagglehub\n",
        "import joblib\n",
        "from sklearn.preprocessing import StandardScaler, LabelEncoder\n",
        "from sklearn.model_selection import train_test_split\n",
        "from scipy import stats\n",
        "from google.colab import drive\n",
        "from sklearn.cluster import KMeans\n",
        "from sklearn.feature_extraction.text import TfidfVectorizer\n",
        "from sklearn.metrics.pairwise import cosine_similarity"
      ],
      "execution_count": null,
      "outputs": []
    },
    {
      "cell_type": "code",
      "metadata": {
        "colab": {
          "base_uri": "https://localhost:8080/"
        },
        "id": "7mOJa2MVbPCJ",
        "outputId": "aed5f973-bdc2-4dbe-9531-b95ae5f49a17"
      },
      "source": [
        "dataset_path = kagglehub.dataset_download(\"undefinenull/million-song-dataset-spotify-lastfm\")\n",
        "extract_path = dataset_path\n",
        "\n",
        "print(f\"Dataset downloaded and extracted to: {extract_path}\")"
      ],
      "execution_count": null,
      "outputs": [
        {
          "output_type": "stream",
          "name": "stdout",
          "text": [
            "Using Colab cache for faster access to the 'million-song-dataset-spotify-lastfm' dataset.\n",
            "Dataset downloaded and extracted to: /kaggle/input/million-song-dataset-spotify-lastfm\n"
          ]
        }
      ]
    },
    {
      "cell_type": "code",
      "metadata": {
        "colab": {
          "base_uri": "https://localhost:8080/"
        },
        "id": "68GmBnybcCu5",
        "outputId": "8b7d68a9-f003-47c3-8dca-539a60d989da"
      },
      "source": [
        "dataframes = {}\n",
        "\n",
        "for root, dirs, files in os.walk(extract_path):\n",
        "    for file in files:\n",
        "        file_path = os.path.join(root, file)\n",
        "        if file.endswith(\".csv\") or file.endswith(\".tsv\"):\n",
        "            try:\n",
        "                if file.endswith(\".csv\"):\n",
        "                    df_temp = pd.read_csv(file_path)\n",
        "                else:\n",
        "                    df_temp = pd.read_csv(file_path, sep=\"\\t\")\n",
        "                dataframes[file] = df_temp\n",
        "                print(f\"Loaded {file} with shape {df_temp.shape}\")\n",
        "            except Exception as e:\n",
        "                print(f\"Could not load {file}: {e}\")\n",
        "\n",
        "\n",
        "if 'Music Info.csv' in dataframes:\n",
        "    df = dataframes['Music Info.csv'].copy()\n",
        "    print(\"\\nProcessing 'Music Info.csv':\")\n",
        "    print(df.head())\n",
        "else:\n",
        "    print(\"\\n'Music Info.csv' not found in the dataset.\")\n",
        "    df = None"
      ],
      "execution_count": null,
      "outputs": [
        {
          "output_type": "stream",
          "name": "stdout",
          "text": [
            "Loaded Music Info.csv with shape (50683, 21)\n",
            "Loaded User Listening History.csv with shape (9711301, 3)\n",
            "\n",
            "Processing 'Music Info.csv':\n",
            "             track_id             name           artist  \\\n",
            "0  TRIOREW128F424EAF0   Mr. Brightside      The Killers   \n",
            "1  TRRIVDJ128F429B0E8       Wonderwall            Oasis   \n",
            "2  TROUVHL128F426C441  Come as You Are          Nirvana   \n",
            "3  TRUEIND128F93038C4      Take Me Out  Franz Ferdinand   \n",
            "4  TRLNZBD128F935E4D8            Creep        Radiohead   \n",
            "\n",
            "                                 spotify_preview_url              spotify_id  \\\n",
            "0  https://p.scdn.co/mp3-preview/4d26180e6961fd46...  09ZQ5TmUG8TSL56n0knqrj   \n",
            "1  https://p.scdn.co/mp3-preview/d012e536916c927b...  06UfBBDISthj1ZJAtX4xjj   \n",
            "2  https://p.scdn.co/mp3-preview/a1c11bb1cb231031...  0keNu0t0tqsWtExGM3nT1D   \n",
            "3  https://p.scdn.co/mp3-preview/399c401370438be4...  0ancVQ9wEcHVd0RrGICTE4   \n",
            "4  https://p.scdn.co/mp3-preview/e7eb60e9466bc3a2...  01QoK9DA7VTeTSE3MNzp4I   \n",
            "\n",
            "                                                tags genre  year  duration_ms  \\\n",
            "0  rock, alternative, indie, alternative_rock, in...   NaN  2004       222200   \n",
            "1  rock, alternative, indie, pop, alternative_roc...   NaN  2006       258613   \n",
            "2   rock, alternative, alternative_rock, 90s, grunge   RnB  1991       218920   \n",
            "3  rock, alternative, indie, alternative_rock, in...   NaN  2004       237026   \n",
            "4  rock, alternative, indie, alternative_rock, in...   RnB  2008       238640   \n",
            "\n",
            "   danceability  ...  key  loudness  mode  speechiness  acousticness  \\\n",
            "0         0.355  ...    1    -4.360     1       0.0746      0.001190   \n",
            "1         0.409  ...    2    -4.373     1       0.0336      0.000807   \n",
            "2         0.508  ...    4    -5.783     0       0.0400      0.000175   \n",
            "3         0.279  ...    9    -8.851     1       0.0371      0.000389   \n",
            "4         0.515  ...    7    -9.935     1       0.0369      0.010200   \n",
            "\n",
            "   instrumentalness  liveness  valence    tempo  time_signature  \n",
            "0          0.000000    0.0971    0.240  148.114               4  \n",
            "1          0.000000    0.2070    0.651  174.426               4  \n",
            "2          0.000459    0.0878    0.543  120.012               4  \n",
            "3          0.000655    0.1330    0.490  104.560               4  \n",
            "4          0.000141    0.1290    0.104   91.841               4  \n",
            "\n",
            "[5 rows x 21 columns]\n"
          ]
        }
      ]
    },
    {
      "cell_type": "code",
      "metadata": {
        "colab": {
          "base_uri": "https://localhost:8080/"
        },
        "id": "rigZOCtbS4v",
        "outputId": "6a8966e2-03df-4073-8fe4-5d4e6d8ce825"
      },
      "source": [
        "if df is not None:\n",
        "    print(\"\\nHandling missing values...\")\n",
        "    threshold = 0.5\n",
        "    df = df.loc[:, df.isnull().mean() < threshold].copy()\n",
        "\n",
        "    for col in df.columns:\n",
        "        if df[col].dtype in [\"float64\", \"int64\"]:\n",
        "            df[col] = df[col].fillna(df[col].median())\n",
        "        else:\n",
        "            if not df[col].mode().empty:\n",
        "                df[col] = df[col].fillna(df[col].mode()[0])\n",
        "\n",
        "    print(\"Missing values after cleaning:\", df.isnull().sum().sum())"
      ],
      "execution_count": null,
      "outputs": [
        {
          "output_type": "stream",
          "name": "stdout",
          "text": [
            "\n",
            "Handling missing values...\n",
            "Missing values after cleaning: 0\n"
          ]
        }
      ]
    },
    {
      "cell_type": "code",
      "metadata": {
        "colab": {
          "base_uri": "https://localhost:8080/"
        },
        "id": "gmjLV9XKbVmv",
        "outputId": "a47e0f35-72b8-40e7-c03e-202d0804ba6f"
      },
      "source": [
        "if df is not None:\n",
        "    print(\"\\nRemoving outliers...\")\n",
        "    numeric_cols = df.select_dtypes(include=[\"int64\", \"float64\"]).columns\n",
        "    if not numeric_cols.empty:\n",
        "        z_scores = np.abs(stats.zscore(df[numeric_cols]))\n",
        "        initial_rows = df.shape[0]\n",
        "        df = df[(z_scores < 3).all(axis=1)].copy()\n",
        "        print(f\"Shape after outlier removal: {df.shape} ({initial_rows - df.shape[0]} rows removed)\")\n",
        "    else:\n",
        "        print(\"No numeric columns found for outlier removal.\")"
      ],
      "execution_count": null,
      "outputs": [
        {
          "output_type": "stream",
          "name": "stdout",
          "text": [
            "\n",
            "Removing outliers...\n",
            "Shape after outlier removal: (45264, 20) (5419 rows removed)\n"
          ]
        }
      ]
    },
    {
      "cell_type": "code",
      "metadata": {
        "colab": {
          "base_uri": "https://localhost:8080/"
        },
        "id": "MvLUkjV5azFP",
        "outputId": "b8081e70-a89a-42bb-b393-160b0c5b4fc7"
      },
      "source": [
        "if df is not None:\n",
        "    print(\"\\nHandling infinite values...\")\n",
        "    numeric_cols_after_outliers = df.select_dtypes(include=[\"int64\", \"float64\"]).columns\n",
        "    if not numeric_cols_after_outliers.empty:\n",
        "        df.replace([np.inf, -np.inf], np.nan, inplace=True)\n",
        "        for col in numeric_cols_after_outliers:\n",
        "             if df[col].isnull().any():\n",
        "                 finite_median = df[col][np.isfinite(df[col])].median()\n",
        "                 df[col] = df[col].fillna(finite_median)\n",
        "\n",
        "        print(\"Infinite values and resulting NaNs handled.\")\n",
        "    else:\n",
        "        print(\"No numeric columns to handle infinite values.\")"
      ],
      "execution_count": null,
      "outputs": [
        {
          "output_type": "stream",
          "name": "stdout",
          "text": [
            "\n",
            "Handling infinite values...\n",
            "Infinite values and resulting NaNs handled.\n"
          ]
        }
      ]
    },
    {
      "cell_type": "code",
      "metadata": {
        "colab": {
          "base_uri": "https://localhost:8080/"
        },
        "id": "O5xzu4AEbXi_",
        "outputId": "6acf2b4a-988b-43f7-a0d0-0b448522e9a7"
      },
      "source": [
        "if df is not None:\n",
        "    print(\"\\nEncoding categorical features...\")\n",
        "    label_encoders = {}\n",
        "    high_cardinality_cols = []\n",
        "    categorical_cols = df.select_dtypes(include=[\"object\", \"category\"]).columns\n",
        "    for col in categorical_cols:\n",
        "        if pd.api.types.is_object_dtype(df[col]) or pd.api.types.is_string_dtype(df[col]):\n",
        "            if df[col].nunique() <= 50:\n",
        "                le = LabelEncoder()\n",
        "                df[col] = le.fit_transform(df[col].astype(str))\n",
        "                label_encoders[col] = le\n",
        "            else:\n",
        "                high_cardinality_cols.append(col)\n",
        "\n",
        "    df = df.drop(columns=high_cardinality_cols).copy()\n",
        "    print(f\"Dropped high cardinality columns: {high_cardinality_cols}\")\n",
        "    print(f\"Shape after encoding categorical features: {df.shape}\")"
      ],
      "execution_count": null,
      "outputs": [
        {
          "output_type": "stream",
          "name": "stdout",
          "text": [
            "\n",
            "Encoding categorical features...\n",
            "Dropped high cardinality columns: ['track_id', 'name', 'artist', 'spotify_preview_url', 'spotify_id', 'tags']\n",
            "Shape after encoding categorical features: (45264, 14)\n"
          ]
        }
      ]
    },
    {
      "cell_type": "code",
      "metadata": {
        "colab": {
          "base_uri": "https://localhost:8080/"
        },
        "id": "SrVTx3XcbayG",
        "outputId": "96f37a0a-a58f-4ef8-da0f-5792ac900dc3"
      },
      "source": [
        "if df is not None:\n",
        "    print(\"\\nScaling numeric columns...\")\n",
        "    numeric_cols_after_encoding = df.select_dtypes(include=[\"int64\", \"float64\"]).columns\n",
        "    if not numeric_cols_after_encoding.empty:\n",
        "        scaler = StandardScaler()\n",
        "        print(\"Performing final check and handling of non-finite values before scaling...\")\n",
        "        for col in numeric_cols_after_encoding:\n",
        "            if not np.isfinite(df[col]).all():\n",
        "                 print(f\"Column '{col}' has non-finite values before scaling. Replacing with median of finite values.\")\n",
        "                 finite_median = df[col][np.isfinite(df[col])].median()\n",
        "                 df[col].replace([np.inf, -np.inf, np.nan], finite_median, inplace=True)\n",
        "            df[col] = df[col].astype(np.float64)\n",
        "\n",
        "        df[numeric_cols_after_encoding] = scaler.fit_transform(df[numeric_cols_after_encoding])\n",
        "        print(\"Numeric columns scaled.\")\n",
        "    else:\n",
        "        print(\"No numeric columns to scale after encoding.\")"
      ],
      "execution_count": null,
      "outputs": [
        {
          "output_type": "stream",
          "name": "stdout",
          "text": [
            "\n",
            "Scaling numeric columns...\n",
            "Performing final check and handling of non-finite values before scaling...\n",
            "Numeric columns scaled.\n"
          ]
        }
      ]
    },
    {
      "cell_type": "code",
      "source": [
        "\n",
        "if df is not None and not df.empty:\n",
        "    print(\"\\nStarting K-Means Clustering for Mood Categorization...\")\n",
        "\n",
        "\n",
        "    clustering_features = ['danceability', 'energy', 'acousticness', 'instrumentalness', 'valence', 'tempo']\n",
        "    clustering_cols = [col for col in clustering_features if col in df.columns]\n",
        "\n",
        "    if not clustering_cols:\n",
        "        print(\" Required clustering features not found. Skipping K-Means.\")\n",
        "    else:\n",
        "        X_scaled_clust = df[clustering_cols]\n",
        "        K_FINAL = 4\n",
        "        kmeans = KMeans(n_clusters=K_FINAL, random_state=42, n_init=10)\n",
        "        df['mood_cluster'] = kmeans.fit_predict(X_scaled_clust)\n",
        "\n",
        "        print(f\"K-Means clustering done with K={K_FINAL}. New 'mood_cluster' column added.\")\n",
        "        print(df[['danceability', 'energy', 'valence', 'mood_cluster']].head(5))\n",
        "\n",
        "\n",
        "if df is not None and 'mood_cluster' in df.columns:\n",
        "\n",
        "\n",
        "    def map_cluster_to_tag(cluster_id):\n",
        "        if cluster_id == 0: return \"energetic danceable party happy\"\n",
        "        if cluster_id == 1: return \"calm peaceful relaxing acoustic\"\n",
        "        if cluster_id == 2: return \"sad melancholic slow minor_key\"\n",
        "        if cluster_id == 3: return \"aggressive loud rock powerful\"\n",
        "        return \"neutral ambient\"\n",
        "\n",
        "    df['music_tags'] = df['mood_cluster'].apply(map_cluster_to_tag)\n",
        "    print(\"\\n'music_tags' feature created by mapping K-Means clusters.\")\n",
        "\n"
      ],
      "metadata": {
        "colab": {
          "base_uri": "https://localhost:8080/"
        },
        "id": "BDzZaD1SRqao",
        "outputId": "45678dac-c0ce-4b63-ce16-42d4666dddc0"
      },
      "execution_count": null,
      "outputs": [
        {
          "output_type": "stream",
          "name": "stdout",
          "text": [
            "\n",
            "Starting K-Means Clustering for Mood Categorization...\n",
            "K-Means clustering done with K=4. New 'mood_cluster' column added.\n",
            "   danceability    energy   valence  mood_cluster\n",
            "0     -0.821463  0.912236 -0.774594             1\n",
            "1     -0.514642  0.804503  0.826756             1\n",
            "2      0.047863  0.531028  0.405963             1\n",
            "3     -1.253285 -0.140231  0.199463             1\n",
            "4      0.087636 -1.109827 -1.304482             1\n",
            "\n",
            "'music_tags' feature created by mapping K-Means clusters.\n"
          ]
        }
      ]
    },
    {
      "cell_type": "code",
      "metadata": {
        "colab": {
          "base_uri": "https://localhost:8080/"
        },
        "id": "sc1xoGVpba0o",
        "outputId": "44f4b592-a00d-4a3d-9cc6-b12ae59777aa"
      },
      "source": [
        "if df is not None:\n",
        "    print(\"\\nSplitting data into train and test sets...\")\n",
        "    if not df.empty:\n",
        "        train_df, test_df = train_test_split(df, test_size=0.2, random_state=42)\n",
        "        print(f\"Train set shape: {train_df.shape}\")\n",
        "        print(f\"Test set shape: {test_df.shape}\")\n",
        "    else:\n",
        "        print(\"Dataframe is empty after preprocessing. Skipping train/test split.\")"
      ],
      "execution_count": null,
      "outputs": [
        {
          "output_type": "stream",
          "name": "stdout",
          "text": [
            "\n",
            "Splitting data into train and test sets...\n",
            "Train set shape: (36211, 14)\n",
            "Test set shape: (9053, 14)\n"
          ]
        }
      ]
    },
    {
      "cell_type": "code",
      "metadata": {
        "colab": {
          "base_uri": "https://localhost:8080/"
        },
        "id": "Wo3MbQ9nbgT_",
        "outputId": "5d059e70-ce37-4832-dc29-b19282992b22"
      },
      "source": [
        "if df is not None and not df.empty:\n",
        "    print(\"\\nSaving preprocessed data and transformers to Google Drive...\")\n",
        "    output_dir = \"/content/drive/MyDrive/preprocessed_million_song_dataset\"\n",
        "    os.makedirs(output_dir, exist_ok=True)\n",
        "\n",
        "    train_df.to_csv(os.path.join(output_dir, \"train.csv\"), index=False)\n",
        "    test_df.to_csv(os.path.join(output_dir, \"test.csv\"), index=False)\n",
        "\n",
        "    if 'scaler' in locals():\n",
        "         joblib.dump(scaler, os.path.join(output_dir, \"scaler.pkl\"))\n",
        "         print(\"Scaler saved.\")\n",
        "    if label_encoders:\n",
        "         joblib.dump(label_encoders, os.path.join(output_dir, \"label_encoders.pkl\"))\n",
        "         print(\"Label encoders saved.\")\n",
        "\n",
        "    print(f\"Preprocessed datasets saved to Google Drive at: {output_dir}\")\n",
        "    print(\"Scaler and label encoders saved for future use.\")\n",
        "else:\n",
        "    print(\"Skipping data saving as dataframe is empty or not loaded.\")"
      ],
      "execution_count": null,
      "outputs": [
        {
          "output_type": "stream",
          "name": "stdout",
          "text": [
            "\n",
            "Saving preprocessed data and transformers to Google Drive...\n",
            "Scaler saved.\n",
            "Preprocessed datasets saved to Google Drive at: /content/drive/MyDrive/preprocessed_million_song_dataset\n",
            "Scaler and label encoders saved for future use.\n"
          ]
        }
      ]
    },
    {
      "cell_type": "code",
      "source": [
        "\n",
        "# Define the Emotion-to-Tag mapping that links the output from emotion.ipynb to this engine\n",
        "EMOTION_MAPPING = {\n",
        "    'happy': 'energetic upbeat danceable major_key',\n",
        "    'sad': 'melancholic slow minor_key acoustic',\n",
        "    'angry': 'aggressive loud rock powerful fast',\n",
        "    'calm': 'calm peaceful relaxing ambient slow',\n",
        "    'surprise': 'energetic danceable fast major_key',\n",
        "    'fear': 'ominous anxious minor_key fast',\n",
        "    'neutral': 'chill ambient laid_back'\n",
        "}\n",
        "\n",
        "def generate_playlist_recommendation(detected_emotion, music_df, n_recommendations=5):\n",
        "    \"\"\"\n",
        "    Recommends a playlist based on the detected emotion using Content-Based Filtering.\n",
        "    \"\"\"\n",
        "    if detected_emotion not in EMOTION_MAPPING:\n",
        "        return pd.DataFrame({'Title': [\"Error: Emotion not mapped\"], 'Artist': [\"N/A\"]})\n",
        "\n",
        "    query_features = EMOTION_MAPPING[detected_emotion]\n",
        "\n",
        "\n",
        "    tfidf = TfidfVectorizer(stop_words='english')\n",
        "    music_matrix = tfidf.fit_transform(music_df['music_tags'].fillna(''))\n",
        "\n",
        "    query_vector = tfidf.transform([query_features])\n",
        "\n",
        "\n",
        "    cosine_similarities = cosine_similarity(query_vector, music_matrix).flatten()\n",
        "\n",
        "    top_indices = cosine_similarities.argsort()[:-n_recommendations-1:-1]\n",
        "\n",
        "    recommendations = music_df.iloc[top_indices].copy()\n",
        "\n",
        "    if 'title' in recommendations.columns and 'artist' in recommendations.columns:\n",
        "        return recommendations[['title', 'artist', 'music_tags']].reset_index(drop=True)\n",
        "    else:\n",
        "        return recommendations[['music_tags']].reset_index(drop=True)\n"
      ],
      "metadata": {
        "id": "i3wBPf5uSZ7u"
      },
      "execution_count": null,
      "outputs": []
    },
    {
      "cell_type": "code",
      "source": [
        "print(df.columns)"
      ],
      "metadata": {
        "colab": {
          "base_uri": "https://localhost:8080/"
        },
        "id": "3FktPEqFPct7",
        "outputId": "66d9a677-4497-4838-bd95-4a8e767e2f05"
      },
      "execution_count": null,
      "outputs": [
        {
          "output_type": "stream",
          "name": "stdout",
          "text": [
            "Index(['year', 'duration_ms', 'danceability', 'energy', 'key', 'loudness',\n",
            "       'mode', 'speechiness', 'acousticness', 'instrumentalness', 'liveness',\n",
            "       'valence', 'tempo', 'time_signature'],\n",
            "      dtype='object')\n"
          ]
        }
      ]
    },
    {
      "cell_type": "code",
      "source": [],
      "metadata": {
        "id": "50HPB3MiPcw1"
      },
      "execution_count": null,
      "outputs": []
    },
    {
      "cell_type": "code",
      "source": [],
      "metadata": {
        "id": "wpGSwvTcPcyr"
      },
      "execution_count": null,
      "outputs": []
    },
    {
      "cell_type": "code",
      "source": [],
      "metadata": {
        "id": "ylB6P5oUPc2R"
      },
      "execution_count": null,
      "outputs": []
    }
  ]
}